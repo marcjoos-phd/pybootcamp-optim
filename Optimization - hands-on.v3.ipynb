{
 "metadata": {
  "kernelspec": {
   "display_name": "Python 2",
   "language": "python",
   "name": "python2"
  },
  "language_info": {
   "codemirror_mode": {
    "name": "ipython",
    "version": 2
   },
   "file_extension": ".py",
   "mimetype": "text/x-python",
   "name": "python",
   "nbconvert_exporter": "python",
   "pygments_lexer": "ipython2",
   "version": "2.7.9"
  },
  "name": ""
 },
 "nbformat": 3,
 "nbformat_minor": 0,
 "worksheets": [
  {
   "cells": [
    {
     "cell_type": "heading",
     "level": 1,
     "metadata": {},
     "source": [
      "Optimization hands-on session: the Heat Equation"
     ]
    },
    {
     "cell_type": "markdown",
     "metadata": {},
     "source": [
      "To test the different optimization techniques, we will try to optimize an explicit finite different scheme (with a Jacobi iteration method) to solve the Heat equation:\n",
      "\n",
      "\\begin{equation*}\\partial_t \\phi = \\alpha \\left[\\partial^2_{x^2}\\phi + \\partial^2_{y^2} \\phi\\right], \\text{ for } x \\in [0, L_x], \\quad y \\in [0, L_y], \\quad t \\geq 0.\\end{equation*}\n",
      "\n",
      "We will use a 3-points central difference method, with a 2nd-order accuracy; it means that $\\phi_{i,j}$ is updated at time $t = t_{n+1} = (n+1)\\Delta t$ following:\n",
      "\n",
      "\\begin{eqnarray*}\\phi_{i,j}^{n+1} & = & \\phi_{i,j}^{n} + \\alpha\\frac{\\Delta t}{\\Delta x \\Delta y}\\left[\\left(\\phi_{i+1,j}^n - 2 \\phi_{i,j}^n + \\phi_{i-1,j}^n\\right) +  \\left(\\phi_{i,j+1}^n - 2 \\phi_{i,j}^n + \\phi_{i,j-1}^n\\right)\\right] \\\\\n",
      " & = & R_2 \\phi_{i,j}^n + R\\left[\\phi_{i+1,j}^n + \\phi_{i-1,j}^n + \\phi_{i,j+1}^n + \\phi_{i,j-1}^n\\right],\\end{eqnarray*}\n",
      " \n",
      " with $R = \\alpha \\Delta t/\\Delta x/\\Delta y$, and $R_2 = 1 - 4R$. For the sake of simplicity, we will consider $\\alpha = L_x = L_y = 1$."
     ]
    },
    {
     "cell_type": "heading",
     "level": 2,
     "metadata": {},
     "source": [
      "Python version"
     ]
    },
    {
     "cell_type": "markdown",
     "metadata": {},
     "source": [
      "First, let's try a normal Python version to see how it is implemented and what it returns:"
     ]
    },
    {
     "cell_type": "code",
     "collapsed": false,
     "input": [
      "%matplotlib inline"
     ],
     "language": "python",
     "metadata": {},
     "outputs": [],
     "prompt_number": 1
    },
    {
     "cell_type": "code",
     "collapsed": false,
     "input": [
      "import numpy as np\n",
      "import pylab as pl\n",
      "\n",
      "# Jacobi function\n",
      "def jacobi(a, nxi, nyi):\n",
      "    for i in xrange(1,nxi-1):\n",
      "        for j in xrange(1,nyi-1):\n",
      "            anew[i,j] = 0.5*a[i,j] + 0.125*(a[i-1,j] + a[i+1,j] \\\n",
      "                                   + a[i,j-1] + a[i,j+1])\n",
      "    return anew\n",
      "\n",
      "# Solver: iterate and call the Jacobi function\n",
      "def solveHeat(a, anew, nxi, nyi, niter):\n",
      "    i = 1\n",
      "    while (i < niter):\n",
      "        anew = jacobi(a, nxi, nyi)\n",
      "        a = anew.copy()\n",
      "        i += 1\n",
      "    return anew\n",
      "\n",
      "# Problem initialization: hot disc in a cold medium\n",
      "def initProblem(a, nxi, nyi):\n",
      "    for i in xrange(nxi):\n",
      "        for j in xrange(nyi):\n",
      "            indx = (i - nxi/2)/(nxi/10.)\n",
      "            indy = (j - nyi/2)/(nyi/10.)\n",
      "            if (indx**2 + indy**2) <= 1:\n",
      "                a[i,j] = 1.\n",
      "    return a\n",
      "\n",
      "def plotResult(a, title='', *args, **kwargs):\n",
      "    fig = pl.figure()\n",
      "    pl.imshow(a, origin='lower')\n",
      "    pl.title(title)\n",
      "    pl.xlabel(r'$x$')\n",
      "    pl.ylabel(r'$y$')\n",
      "    pl.colorbar()\n",
      "    return fig\n",
      "     \n",
      "# Parameters of the problem\n",
      "niter = 100\n",
      "nx = 128\n",
      "ny = 128\n",
      "a = np.zeros((nx,ny))\n",
      "a = initProblem(a, nx, ny)\n",
      "anew = a.copy()\n",
      "\n",
      "# Plot and solve the problem\n",
      "fig1 = plotResult(a, 'Initial state')\n",
      "anew = solveHeat(a, anew, nx, ny, niter)\n",
      "fig2 = plotResult(anew, 'After %d iterations' %niter)"
     ],
     "language": "python",
     "metadata": {},
     "outputs": [
      {
       "metadata": {},
       "output_type": "display_data",
       "png": "[encoded data removed]",
       "text": [
        "<matplotlib.figure.Figure at 0x7f44946fa410>"
       ]
      },
      {
       "metadata": {},
       "output_type": "display_data",
       "png": "[encoded data removed]",
       "text": [
        "<matplotlib.figure.Figure at 0x7f447a664a10>"
       ]
      }
     ],
     "prompt_number": 2
    },
    {
     "cell_type": "markdown",
     "metadata": {},
     "source": [
      "Allright, and if we time it:"
     ]
    },
    {
     "cell_type": "code",
     "collapsed": false,
     "input": [
      "niter = 10\n",
      "nx = 128\n",
      "ny = 128\n",
      "a = np.zeros((nx,ny))\n",
      "a = initProblem(a, nx, ny)\n",
      "anew = a.copy()\n",
      "%timeit solveHeat(a, anew, nx, ny, niter)"
     ],
     "language": "python",
     "metadata": {},
     "outputs": [
      {
       "output_type": "stream",
       "stream": "stdout",
       "text": [
        "1 loops, best of 3: 773 ms per loop\n"
       ]
      }
     ],
     "prompt_number": 3
    },
    {
     "cell_type": "markdown",
     "metadata": {},
     "source": [
      "Can we do better?"
     ]
    },
    {
     "cell_type": "heading",
     "level": 2,
     "metadata": {},
     "source": [
      "Cython version"
     ]
    },
    {
     "cell_type": "code",
     "collapsed": false,
     "input": [
      "%load_ext cythonmagic"
     ],
     "language": "python",
     "metadata": {},
     "outputs": [],
     "prompt_number": null
    },
    {
     "cell_type": "markdown",
     "metadata": {},
     "source": [
      "### Hints:\n",
      "- don't forget to type your variables\n",
      "- does everything need to be defined as pure Python function?\n",
      "- are there any directives you can use?"
     ]
    },
    {
     "cell_type": "code",
     "collapsed": false,
     "input": [
      "%%cython\n",
      "# Make your imports\n",
      "\n",
      "def jacobi(a, nxi, nyi):\n",
      "    for i in xrange(1,nxi-1):\n",
      "        for j in xrange(1,nyi-1):\n",
      "            anew[i,j] = 0.5*a[i,j] + 0.125*(a[i-1,j] + a[i+1,j] \\\n",
      "                                   + a[i,j-1] + a[i,j+1])\n",
      "    return anew\n",
      "\n",
      "def solveHeat(a, anew, nxi, nyi, niter):\n",
      "    i = 1\n",
      "    while (i < niter):\n",
      "        anew = jacobi(a, nxi, nyi)\n",
      "        a = anew.copy()\n",
      "        i += 1\n",
      "    return anew"
     ],
     "language": "python",
     "metadata": {},
     "outputs": [],
     "prompt_number": null
    },
    {
     "cell_type": "code",
     "collapsed": false,
     "input": [
      "a = np.zeros((nx,ny))\n",
      "a = initProblem(a, nx, ny)\n",
      "anew = a.copy()\n",
      "%timeit solveHeatCython(a, anew, nx, ny, niter)"
     ],
     "language": "python",
     "metadata": {},
     "outputs": [],
     "prompt_number": null
    },
    {
     "cell_type": "heading",
     "level": 2,
     "metadata": {},
     "source": [
      "F2py version"
     ]
    },
    {
     "cell_type": "markdown",
     "metadata": {},
     "source": [
      "### Hints:\n",
      "- don't forget that indices start at 1 in Fortran\n",
      "- the 'while' instruction has the form `do while (condition)`"
     ]
    },
    {
     "cell_type": "code",
     "collapsed": false,
     "input": [
      "%%file heat.f90\n",
      "module heat\n",
      "contains\n",
      "  function jacobiFortran([input variables]) result([output variables])\n",
      "    implicit none\n",
      "\n",
      "    ! Declarations\n",
      "    \n",
      "    ! Do stuff\n",
      "\n",
      "  end function jacobiFortran\n",
      "\n",
      "  subroutine solveHeatFortran([input variables])\n",
      "    implicit none\n",
      "\n",
      "    ! Declarations\n",
      "    \n",
      "    ! Do stuff\n",
      "\n",
      "  end subroutine solveHeatFortran\n",
      "end module heat"
     ],
     "language": "python",
     "metadata": {},
     "outputs": [],
     "prompt_number": null
    },
    {
     "cell_type": "code",
     "collapsed": false,
     "input": [
      "!f2py -c -m heat heat.f90"
     ],
     "language": "python",
     "metadata": {},
     "outputs": [],
     "prompt_number": null
    },
    {
     "cell_type": "code",
     "collapsed": false,
     "input": [
      "from heat import heat\n",
      "\n",
      "a = np.zeros((nx,ny))\n",
      "a = initProblem(a, nx, ny)\n",
      "# Don't forget to order your arrays in a Fortran-contiguous way\n",
      "aF   = a.copy(order='F')\n",
      "anew = aF.copy(order='F')\n",
      "%timeit heat.solveheatfortran(aF, anew, niter)"
     ],
     "language": "python",
     "metadata": {},
     "outputs": [],
     "prompt_number": null
    },
    {
     "cell_type": "heading",
     "level": 2,
     "metadata": {},
     "source": [
      "Numba version"
     ]
    },
    {
     "cell_type": "code",
     "collapsed": false,
     "input": [
      "# Make your imports\n",
      "\n",
      "def jacobi(a, nxi, nyi):\n",
      "    for i in xrange(1,nxi-1):\n",
      "        for j in xrange(1,nyi-1):\n",
      "            anew[i,j] = 0.5*a[i,j] + 0.125*(a[i-1,j] + a[i+1,j] \\\n",
      "                                   + a[i,j-1] + a[i,j+1])\n",
      "    return anew\n",
      "\n",
      "def solveHeat(a, anew, nxi, nyi, niter):\n",
      "    i = 1\n",
      "    while (i < niter):\n",
      "        anew = jacobi(a, nxi, nyi)\n",
      "        a = anew.copy()\n",
      "        i += 1\n",
      "    return anew"
     ],
     "language": "python",
     "metadata": {},
     "outputs": [],
     "prompt_number": null
    },
    {
     "cell_type": "code",
     "collapsed": false,
     "input": [
      "a = np.zeros((nx,ny))\n",
      "a = initProblem(a, nx, ny)\n",
      "anew = a.copy()\n",
      "%timeit solveHeatNumba(a, anew, nx, ny, niter)"
     ],
     "language": "python",
     "metadata": {},
     "outputs": [],
     "prompt_number": null
    },
    {
     "cell_type": "heading",
     "level": 1,
     "metadata": {},
     "source": [
      "Concurrent & parallel computing hands-on session: Monte Carlo Pi"
     ]
    },
    {
     "cell_type": "markdown",
     "metadata": {},
     "source": [
      "We will compute the approximate value of $\\pi$ with a Monte Carlo integration algorithm. Each point $(x,y)$ in a list of random points within a \"unit\" square is evaluated using the function:\n",
      "\n",
      "$$f(x,y) = (x^2 + y^2 < 1) \\quad ? \\quad 1 \\quad : \\quad 0$$\n",
      "\n",
      "The points are then summed. The approximate value of $\\pi$ can then be calculated by multiplying four times the volume of the square with the mean value for $f(x,y)$.\n",
      "\n",
      "The code itself is quite simple, and the algorithm is *embarassingly* parallel because each $f(x,y)$ calculation can be performed independently. Besides, the algorithm uses a sum reduction, which makes it interesting."
     ]
    },
    {
     "cell_type": "heading",
     "level": 2,
     "metadata": {},
     "source": [
      "Python version"
     ]
    },
    {
     "cell_type": "code",
     "collapsed": false,
     "input": [
      "import numpy as np\n",
      "\n",
      "def compPi(nelmt=int(1e6)):\n",
      "    # Initialize points coordinates (x,y)\n",
      "    x = np.random.random(nelmt)\n",
      "    y = np.random.random(nelmt)\n",
      "    temp = np.zeros(nelmt)\n",
      "    # Evaluation of each point with f \n",
      "    for i in xrange(nelmt):\n",
      "        radSq = x[i]*x[i] + y[i]*y[i]\n",
      "        temp[i] = 1 if (radSq < 1) else 0\n",
      "    \n",
      "    sumA = 0.\n",
      "    for i in xrange(nelmt):\n",
      "        sumA += temp[i]\n",
      "\n",
      "    return 4*sumA/nelmt\n",
      "\n",
      "%timeit compPi()"
     ],
     "language": "python",
     "metadata": {},
     "outputs": [],
     "prompt_number": null
    },
    {
     "cell_type": "heading",
     "level": 2,
     "metadata": {},
     "source": [
      "`multiprocessing` version"
     ]
    },
    {
     "cell_type": "markdown",
     "metadata": {},
     "source": [
      "For the multiprocessing version, the simplest thing to do is to distribute evenly the work among the processes.\n",
      "\n",
      "### Hints:\n",
      "- you can use a `pool` (what do you need to do so?)"
     ]
    },
    {
     "cell_type": "code",
     "collapsed": false,
     "input": [
      "import multiprocessing as mp\n",
      "\n",
      "def piPool(nelmt=int(1e6)):\n",
      "    # Create your pool\n",
      "    # Distribute the work among processes\n",
      "    # Return a result\n",
      "\n",
      "%timeit piPool()"
     ],
     "language": "python",
     "metadata": {},
     "outputs": [],
     "prompt_number": null
    },
    {
     "cell_type": "heading",
     "level": 2,
     "metadata": {},
     "source": [
      "`mpi4py` version"
     ]
    },
    {
     "cell_type": "markdown",
     "metadata": {},
     "source": [
      "The same can be done with MPI.\n",
      "\n",
      "### Hints:\n",
      "- each process has to compute part of the result\n",
      "- a reduction must be made to retrieve the final result"
     ]
    },
    {
     "cell_type": "code",
     "collapsed": false,
     "input": [
      "%%file piparallel.py\n",
      "#!/usr/bin/env python\n",
      "import os\n",
      "from mpi4py import MPI\n",
      "import numpy as np\n",
      "\n",
      "def compPi(nelmt=int(1e6)):\n",
      "    x = np.random.random(nelmt)\n",
      "    y = np.random.random(nelmt)\n",
      "    temp = np.zeros(nelmt)\n",
      "    for i in xrange(nelmt):\n",
      "        radSq = x[i]*x[i] + y[i]*y[i]\n",
      "        temp[i] = 1 if (radSq < 1) else 0\n",
      "    \n",
      "    sumA = 0.\n",
      "    for i in xrange(nelmt):\n",
      "        sumA += temp[i]\n",
      "\n",
      "    return 4*sumA/nelmt\n",
      "\n",
      "def piMPI(nelmt=int(1e6)):\n",
      "    # Communicator initalization\n",
      "    \n",
      "    t1 = MPI.Wtime()\n",
      "    # Compute pi\n",
      "    # Perform a reduction\n",
      "    t2 = MPI.Wtime()\n",
      "    if rank == 0: print(\"Elapsed time: %9.8f s\" %(t2 - t1))\n",
      "    return pi\n",
      "\n",
      "if __name__ == '__main__':\n",
      "    pi = piMPI()"
     ],
     "language": "python",
     "metadata": {},
     "outputs": [],
     "prompt_number": null
    },
    {
     "cell_type": "code",
     "collapsed": false,
     "input": [
      "%%bash\n",
      "chmod +x piparallel.py\n",
      "mpirun -np 4 ./piparallel.py"
     ],
     "language": "python",
     "metadata": {},
     "outputs": [],
     "prompt_number": null
    }
   ],
   "metadata": {}
  }
 ]
}