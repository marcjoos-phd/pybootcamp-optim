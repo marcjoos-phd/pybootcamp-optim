{
 "cells": [
  {
   "cell_type": "markdown",
   "metadata": {},
   "source": [
    "# Optimization hands-on session: the Heat Equation"
   ]
  },
  {
   "cell_type": "markdown",
   "metadata": {},
   "source": [
    "To test the different optimization techniques, we will try to optimize an explicit finite different scheme (with a Jacobi iteration method) to solve the Heat equation:\n",
    "\n",
    "\\begin{equation*}\\partial_t \\phi = \\alpha \\left[\\partial^2_{x^2}\\phi + \\partial^2_{y^2} \\phi\\right], \\text{ for } x \\in [0, L_x], \\quad y \\in [0, L_y], \\quad t \\geq 0.\\end{equation*}\n",
    "\n",
    "We will use a 3-points central difference method, with a 2nd-order accuracy; it means that $\\phi_{i,j}$ is updated at time $t = t_{n+1} = (n+1)\\Delta t$ following:\n",
    "\n",
    "\\begin{eqnarray*}\\phi_{i,j}^{n+1} & = & \\phi_{i,j}^{n} + \\alpha\\frac{\\Delta t}{\\Delta x \\Delta y}\\left[\\left(\\phi_{i+1,j}^n - 2 \\phi_{i,j}^n + \\phi_{i-1,j}^n\\right) +  \\left(\\phi_{i,j+1}^n - 2 \\phi_{i,j}^n + \\phi_{i,j-1}^n\\right)\\right] \\\\\n",
    " & = & R_2 \\phi_{i,j}^n + R\\left[\\phi_{i+1,j}^n + \\phi_{i-1,j}^n + \\phi_{i,j+1}^n + \\phi_{i,j-1}^n\\right],\\end{eqnarray*}\n",
    " \n",
    " with $R = \\alpha \\Delta t/\\Delta x/\\Delta y$, and $R_2 = 1 - 4R$. For the sake of simplicity, we will consider $\\alpha = L_x = L_y = 1$."
   ]
  },
  {
   "cell_type": "markdown",
   "metadata": {},
   "source": [
    "## Python version"
   ]
  },
  {
   "cell_type": "markdown",
   "metadata": {},
   "source": [
    "First, let's try a normal Python version to see how it is implemented and what it returns:"
   ]
  },
  {
   "cell_type": "code",
   "execution_count": 3,
   "metadata": {
    "collapsed": false
   },
   "outputs": [],
   "source": [
    "%matplotlib inline"
   ]
  },
  {
   "cell_type": "code",
   "execution_count": 4,
   "metadata": {
    "collapsed": false
   },
   "outputs": [
    {
     "data": {
      "image/png": "[encoded data removed]",
      "text/plain": [
       "<matplotlib.figure.Figure at 0x7f2965d88fd0>"
      ]
     },
     "metadata": {},
     "output_type": "display_data"
    },
    {
     "data": {
      "image/png": "[encoded data removed]",
      "text/plain": [
       "<matplotlib.figure.Figure at 0x7f2950769e50>"
      ]
     },
     "metadata": {},
     "output_type": "display_data"
    }
   ],
   "source": [
    "import numpy as np\n",
    "import pylab as pl\n",
    "\n",
    "# Jacobi function\n",
    "def jacobi(a, nxi, nyi):\n",
    "    for i in xrange(1,nxi-1):\n",
    "        for j in xrange(1,nyi-1):\n",
    "            anew[i,j] = 0.5*a[i,j] + 0.125*(a[i-1,j] + a[i+1,j] \\\n",
    "                                   + a[i,j-1] + a[i,j+1])\n",
    "    return anew\n",
    "\n",
    "# Solver: iterate and call the Jacobi function\n",
    "def solveHeat(a, anew, nxi, nyi, niter):\n",
    "    i = 1\n",
    "    while (i < niter):\n",
    "        anew = jacobi(a, nxi, nyi)\n",
    "        a = anew.copy()\n",
    "        i += 1\n",
    "    return anew\n",
    "\n",
    "# Problem initialization: hot disc in a cold medium\n",
    "def initProblem(a, nxi, nyi):\n",
    "    for i in xrange(nxi):\n",
    "        for j in xrange(nyi):\n",
    "            indx = (i - nxi/2)/(nxi/10.)\n",
    "            indy = (j - nyi/2)/(nyi/10.)\n",
    "            if (indx**2 + indy**2) <= 1:\n",
    "                a[i,j] = 1.\n",
    "    return a\n",
    "\n",
    "def plotResult(a, title='', *args, **kwargs):\n",
    "    fig = pl.figure()\n",
    "    pl.imshow(a, origin='lower', cmap='rainbow')\n",
    "    pl.title(title)\n",
    "    pl.xlabel(r'$x$')\n",
    "    pl.ylabel(r'$y$')\n",
    "    pl.colorbar()\n",
    "    return fig\n",
    "     \n",
    "# Parameters of the problem\n",
    "niter = 100\n",
    "nx = 128\n",
    "ny = 128\n",
    "a = np.zeros((nx,ny))\n",
    "a = initProblem(a, nx, ny)\n",
    "anew = a.copy()\n",
    "\n",
    "# Plot and solve the problem\n",
    "fig1 = plotResult(a, 'Initial state')\n",
    "anew = solveHeat(a, anew, nx, ny, niter)\n",
    "fig2 = plotResult(anew, 'After %d iterations' %niter)"
   ]
  },
  {
   "cell_type": "markdown",
   "metadata": {},
   "source": [
    "Allright, and if we time it:"
   ]
  },
  {
   "cell_type": "code",
   "execution_count": 16,
   "metadata": {
    "collapsed": false
   },
   "outputs": [
    {
     "name": "stdout",
     "output_type": "stream",
     "text": [
      "1 loops, best of 3: 769 ms per loop\n"
     ]
    }
   ],
   "source": [
    "niter = 10\n",
    "nx = 128\n",
    "ny = 128\n",
    "a = np.zeros((nx,ny))\n",
    "a = initProblem(a, nx, ny)\n",
    "anew = a.copy()\n",
    "pyversion = %timeit -o solveHeat(a, anew, nx, ny, niter)\n",
    "times = []; labels = []\n",
    "times.append(pyversion.best)\n",
    "labels.append('Python')"
   ]
  },
  {
   "cell_type": "markdown",
   "metadata": {},
   "source": [
    "Can we do better?"
   ]
  },
  {
   "cell_type": "markdown",
   "metadata": {},
   "source": [
    "## Cython version"
   ]
  },
  {
   "cell_type": "code",
   "execution_count": 6,
   "metadata": {
    "collapsed": false
   },
   "outputs": [
    {
     "name": "stdout",
     "output_type": "stream",
     "text": [
      "The Cython magic has been moved to the Cython package, hence \n",
      "`%load_ext cythonmagic` is deprecated; please use `%load_ext Cython` instead.\n",
      "\n",
      "Though, because I am nice, I'll still try to load it for you this time.\n"
     ]
    }
   ],
   "source": [
    "%load_ext cythonmagic"
   ]
  },
  {
   "cell_type": "code",
   "execution_count": 7,
   "metadata": {
    "collapsed": false
   },
   "outputs": [],
   "source": [
    "%%cython\n",
    "cimport numpy as cnp\n",
    "import numpy as np\n",
    "import cython\n",
    "\n",
    "@cython.wraparound(False)\n",
    "@cython.boundscheck(False)\n",
    "cdef cnp.ndarray[cnp.float64_t, ndim=2] jacobiCython(cnp.ndarray[cnp.float64_t, ndim=2] a, int nxi, int nyi):\n",
    "    cdef:\n",
    "        int i, j\n",
    "        cnp.ndarray[cnp.float64_t, ndim=2] anew = cnp.ndarray(shape=(nxi,nyi))\n",
    "    for i in xrange(1,nxi-1):\n",
    "        for j in xrange(1,nyi-1):\n",
    "            anew[i,j] = 0.5*a[i,j] + 0.125*(a[i-1,j] + a[i+1,j] \\\n",
    "                                   + a[i,j-1] + a[i,j+1])\n",
    "    return anew\n",
    "\n",
    "@cython.wraparound(False)\n",
    "@cython.boundscheck(False)\n",
    "def solveHeatCython(cnp.ndarray[cnp.float64_t, ndim=2] a, cnp.ndarray[cnp.float64_t, ndim=2] anew, int nxi, int nyi, int niter):\n",
    "    cdef i = 1\n",
    "    while (i < niter):\n",
    "        anew = jacobiCython(a, nxi, nyi)\n",
    "        a = anew.copy()\n",
    "        i += 1\n",
    "    return anew"
   ]
  },
  {
   "cell_type": "code",
   "execution_count": 17,
   "metadata": {
    "collapsed": false
   },
   "outputs": [
    {
     "name": "stdout",
     "output_type": "stream",
     "text": [
      "1000 loops, best of 3: 1.63 ms per loop\n"
     ]
    }
   ],
   "source": [
    "a = np.zeros((nx,ny))\n",
    "a = initProblem(a, nx, ny)\n",
    "anew = a.copy()\n",
    "cyversion = %timeit -o solveHeatCython(a, anew, nx, ny, niter)\n",
    "times.append(cyversion.best)\n",
    "labels.append('Cython')"
   ]
  },
  {
   "cell_type": "markdown",
   "metadata": {},
   "source": [
    "## F2py version"
   ]
  },
  {
   "cell_type": "code",
   "execution_count": 9,
   "metadata": {
    "collapsed": false
   },
   "outputs": [
    {
     "name": "stdout",
     "output_type": "stream",
     "text": [
      "Writing heat.f90\n"
     ]
    }
   ],
   "source": [
    "%%file heat.f90\n",
    "module heat\n",
    "contains\n",
    "  function jacobiFortran(a, nxi, nyi) result(anew)\n",
    "    implicit none\n",
    "\n",
    "    integer, intent(in) :: nxi, nyi\n",
    "    real(8), dimension(nxi, nyi), intent(in)  :: a\n",
    "    real(8), dimension(nxi, nyi) :: anew\n",
    "    integer :: i, j\n",
    "\n",
    "    do j = 2, nyi-1\n",
    "       do i = 2, nxi-1\n",
    "          anew(i,j) = + 0.5d0*a(i,j) + 0.125d0*(a(i-1,j) + a(i+1,j) &\n",
    "                                   & + a(i,j-1) + a(i,j+1))\n",
    "       enddo\n",
    "    enddo\n",
    "\n",
    "  end function jacobiFortran\n",
    "\n",
    "  subroutine solveHeatFortran(a, anew, nxi, nyi, niter)\n",
    "    implicit none\n",
    "\n",
    "    integer, intent(in) :: nxi, nyi, niter\n",
    "    real(8), dimension(nxi, nyi), intent(inout) :: a\n",
    "    real(8), dimension(nxi, nyi), intent(inout) :: anew\n",
    "    integer :: i\n",
    "  \n",
    "    i = 0\n",
    "    do while (i < niter)\n",
    "       anew = jacobiFortran(a, nxi, nyi)\n",
    "       a = anew\n",
    "       i = i + 1\n",
    "    enddo\n",
    "\n",
    "  end subroutine solveHeatFortran\n",
    "end module heat"
   ]
  },
  {
   "cell_type": "code",
   "execution_count": 10,
   "metadata": {
    "collapsed": false,
    "scrolled": true
   },
   "outputs": [
    {
     "name": "stdout",
     "output_type": "stream",
     "text": [
      "\u001b[39mrunning build\u001b[0m\n",
      "\u001b[39mrunning config_cc\u001b[0m\n",
      "\u001b[39munifing config_cc, config, build_clib, build_ext, build commands --compiler options\u001b[0m\n",
      "\u001b[39mrunning config_fc\u001b[0m\n",
      "\u001b[39munifing config_fc, config, build_clib, build_ext, build commands --fcompiler options\u001b[0m\n",
      "\u001b[39mrunning build_src\u001b[0m\n",
      "\u001b[39mbuild_src\u001b[0m\n",
      "\u001b[39mbuilding extension \"heat\" sources\u001b[0m\n",
      "\u001b[39mf2py options: []\u001b[0m\n",
      "\u001b[39mf2py:> /tmp/tmp0LKEZ6/src.linux-x86_64-2.7/heatmodule.c\u001b[0m\n",
      "\u001b[39mcreating /tmp/tmp0LKEZ6/src.linux-x86_64-2.7\u001b[0m\n",
      "Reading fortran codes...\n",
      "\tReading file 'heat.f90' (format:free)\n",
      "Post-processing...\n",
      "\tBlock: heat\n",
      "\t\t\tBlock: heat\n",
      "\t\t\t\tBlock: jacobifortran\n",
      "appenddecl: \"dimension\" not implemented.\n",
      "\t\t\t\tBlock: solveheatfortran\n",
      "Post-processing (stage 2)...\n",
      "\tBlock: heat\n",
      "\t\tBlock: unknown_interface\n",
      "\t\t\tBlock: heat\n",
      "\t\t\t\tBlock: jacobifortran\n",
      "\t\t\t\tBlock: solveheatfortran\n",
      "Building modules...\n",
      "\tBuilding module \"heat\"...\n",
      "\t\tConstructing F90 module support for \"heat\"...\n",
      "\t\tCreating wrapper for Fortran function \"jacobifortran\"(\"jacobifortran\")...\n",
      "\t\t\tConstructing wrapper function \"heat.jacobifortran\"...\n",
      "\t\t\t  anew = jacobifortran(a,[nxi,nyi])\n",
      "\t\t\tConstructing wrapper function \"heat.solveheatfortran\"...\n",
      "\t\t\t  solveheatfortran(a,anew,niter,[nxi,nyi])\n",
      "\tWrote C/API module \"heat\" to file \"/tmp/tmp0LKEZ6/src.linux-x86_64-2.7/heatmodule.c\"\n",
      "\tFortran 90 wrappers are saved to \"/tmp/tmp0LKEZ6/src.linux-x86_64-2.7/heat-f2pywrappers2.f90\"\n",
      "\u001b[39m  adding '/tmp/tmp0LKEZ6/src.linux-x86_64-2.7/fortranobject.c' to sources.\u001b[0m\n",
      "\u001b[39m  adding '/tmp/tmp0LKEZ6/src.linux-x86_64-2.7' to include_dirs.\u001b[0m\n",
      "\u001b[39mcopying /local/home/mjoos/soft/anaconda/lib/python2.7/site-packages/numpy/f2py/src/fortranobject.c -> /tmp/tmp0LKEZ6/src.linux-x86_64-2.7\u001b[0m\n",
      "\u001b[39mcopying /local/home/mjoos/soft/anaconda/lib/python2.7/site-packages/numpy/f2py/src/fortranobject.h -> /tmp/tmp0LKEZ6/src.linux-x86_64-2.7\u001b[0m\n",
      "\u001b[39m  adding '/tmp/tmp0LKEZ6/src.linux-x86_64-2.7/heat-f2pywrappers2.f90' to sources.\u001b[0m\n",
      "\u001b[39mbuild_src: building npy-pkg config files\u001b[0m\n",
      "\u001b[39mrunning build_ext\u001b[0m\n",
      "\u001b[39mcustomize UnixCCompiler\u001b[0m\n",
      "\u001b[39mcustomize UnixCCompiler using build_ext\u001b[0m\n",
      "\u001b[39mcustomize Gnu95FCompiler\u001b[0m\n",
      "\u001b[39mFound executable /usr/bin/gfortran\u001b[0m\n",
      "\u001b[39mcustomize Gnu95FCompiler\u001b[0m\n",
      "\u001b[39mcustomize Gnu95FCompiler using build_ext\u001b[0m\n",
      "\u001b[39mbuilding 'heat' extension\u001b[0m\n",
      "\u001b[39mcompiling C sources\u001b[0m\n",
      "\u001b[39mC compiler: gcc -pthread -fno-strict-aliasing -g -O2 -DNDEBUG -g -fwrapv -O3 -Wall -Wstrict-prototypes -fPIC\n",
      "\u001b[0m\n",
      "\u001b[39mcreating /tmp/tmp0LKEZ6/tmp\u001b[0m\n",
      "\u001b[39mcreating /tmp/tmp0LKEZ6/tmp/tmp0LKEZ6\u001b[0m\n",
      "\u001b[39mcreating /tmp/tmp0LKEZ6/tmp/tmp0LKEZ6/src.linux-x86_64-2.7\u001b[0m\n",
      "\u001b[39mcompile options: '-I/tmp/tmp0LKEZ6/src.linux-x86_64-2.7 -I/local/home/mjoos/soft/anaconda/lib/python2.7/site-packages/numpy/core/include -I/local/home/mjoos/soft/anaconda/include/python2.7 -c'\u001b[0m\n",
      "\u001b[39mgcc: /tmp/tmp0LKEZ6/src.linux-x86_64-2.7/heatmodule.c\u001b[0m\n",
      "In file included from /local/home/mjoos/soft/anaconda/lib/python2.7/site-packages/numpy/core/include/numpy/ndarraytypes.h:1804:0,\n",
      "                 from /local/home/mjoos/soft/anaconda/lib/python2.7/site-packages/numpy/core/include/numpy/ndarrayobject.h:17,\n",
      "                 from /local/home/mjoos/soft/anaconda/lib/python2.7/site-packages/numpy/core/include/numpy/arrayobject.h:4,\n",
      "                 from /tmp/tmp0LKEZ6/src.linux-x86_64-2.7/fortranobject.h:13,\n",
      "                 from /tmp/tmp0LKEZ6/src.linux-x86_64-2.7/heatmodule.c:18:\n",
      "/local/home/mjoos/soft/anaconda/lib/python2.7/site-packages/numpy/core/include/numpy/npy_1_7_deprecated_api.h:15:2: attention : #warning \"Using deprecated NumPy API, disable it by \" \"#defining NPY_NO_DEPRECATED_API NPY_1_7_API_VERSION\" [-Wcpp]\n",
      "/tmp/tmp0LKEZ6/src.linux-x86_64-2.7/heatmodule.c:111:12: attention : ‘f2py_size’ defined but not used [-Wunused-function]\n",
      "\u001b[39mgcc: /tmp/tmp0LKEZ6/src.linux-x86_64-2.7/fortranobject.c\u001b[0m\n",
      "In file included from /local/home/mjoos/soft/anaconda/lib/python2.7/site-packages/numpy/core/include/numpy/ndarraytypes.h:1804:0,\n",
      "                 from /local/home/mjoos/soft/anaconda/lib/python2.7/site-packages/numpy/core/include/numpy/ndarrayobject.h:17,\n",
      "                 from /local/home/mjoos/soft/anaconda/lib/python2.7/site-packages/numpy/core/include/numpy/arrayobject.h:4,\n",
      "                 from /tmp/tmp0LKEZ6/src.linux-x86_64-2.7/fortranobject.h:13,\n",
      "                 from /tmp/tmp0LKEZ6/src.linux-x86_64-2.7/fortranobject.c:2:\n",
      "/local/home/mjoos/soft/anaconda/lib/python2.7/site-packages/numpy/core/include/numpy/npy_1_7_deprecated_api.h:15:2: attention : #warning \"Using deprecated NumPy API, disable it by \" \"#defining NPY_NO_DEPRECATED_API NPY_1_7_API_VERSION\" [-Wcpp]\n",
      "\u001b[39mcompiling Fortran 90 module sources\u001b[0m\n",
      "\u001b[39mFortran f77 compiler: /usr/bin/gfortran -Wall -g -ffixed-form -fno-second-underscore -fPIC -O3 -funroll-loops\n",
      "Fortran f90 compiler: /usr/bin/gfortran -Wall -g -fno-second-underscore -fPIC -O3 -funroll-loops\n",
      "Fortran fix compiler: /usr/bin/gfortran -Wall -g -ffixed-form -fno-second-underscore -Wall -g -fno-second-underscore -fPIC -O3 -funroll-loops\u001b[0m\n",
      "\u001b[39mcompile options: '-I/tmp/tmp0LKEZ6/src.linux-x86_64-2.7 -I/local/home/mjoos/soft/anaconda/lib/python2.7/site-packages/numpy/core/include -I/local/home/mjoos/soft/anaconda/include/python2.7 -c'\n",
      "extra options: '-J/tmp/tmp0LKEZ6/ -I/tmp/tmp0LKEZ6/'\u001b[0m\n",
      "\u001b[39mgfortran:f90: heat.f90\u001b[0m\n",
      "\u001b[39mcompiling Fortran sources\u001b[0m\n",
      "\u001b[39mFortran f77 compiler: /usr/bin/gfortran -Wall -g -ffixed-form -fno-second-underscore -fPIC -O3 -funroll-loops\n",
      "Fortran f90 compiler: /usr/bin/gfortran -Wall -g -fno-second-underscore -fPIC -O3 -funroll-loops\n",
      "Fortran fix compiler: /usr/bin/gfortran -Wall -g -ffixed-form -fno-second-underscore -Wall -g -fno-second-underscore -fPIC -O3 -funroll-loops\u001b[0m\n",
      "\u001b[39mcompile options: '-I/tmp/tmp0LKEZ6/src.linux-x86_64-2.7 -I/local/home/mjoos/soft/anaconda/lib/python2.7/site-packages/numpy/core/include -I/local/home/mjoos/soft/anaconda/include/python2.7 -c'\n",
      "extra options: '-J/tmp/tmp0LKEZ6/ -I/tmp/tmp0LKEZ6/'\u001b[0m\n",
      "\u001b[39mgfortran:f90: /tmp/tmp0LKEZ6/src.linux-x86_64-2.7/heat-f2pywrappers2.f90\u001b[0m\n",
      "\u001b[39m/usr/bin/gfortran -Wall -g -Wall -g -shared /tmp/tmp0LKEZ6/tmp/tmp0LKEZ6/src.linux-x86_64-2.7/heatmodule.o /tmp/tmp0LKEZ6/tmp/tmp0LKEZ6/src.linux-x86_64-2.7/fortranobject.o /tmp/tmp0LKEZ6/heat.o /tmp/tmp0LKEZ6/tmp/tmp0LKEZ6/src.linux-x86_64-2.7/heat-f2pywrappers2.o -L/local/home/mjoos/soft/anaconda/lib -lpython2.7 -lgfortran -o ./heat.so\u001b[0m\n",
      "Removing build directory /tmp/tmp0LKEZ6\n"
     ]
    }
   ],
   "source": [
    "!f2py -c -m heat heat.f90"
   ]
  },
  {
   "cell_type": "code",
   "execution_count": 18,
   "metadata": {
    "collapsed": false
   },
   "outputs": [
    {
     "name": "stdout",
     "output_type": "stream",
     "text": [
      "1000 loops, best of 3: 1.41 ms per loop\n"
     ]
    }
   ],
   "source": [
    "from heat import heat\n",
    "\n",
    "a = np.zeros((nx,ny))\n",
    "a = initProblem(a, nx, ny)\n",
    "aF   = a.copy(order='F')\n",
    "anew = aF.copy(order='F')\n",
    "fpversion = %timeit -o heat.solveheatfortran(aF, anew, niter)\n",
    "times.append(fpversion.best)\n",
    "labels.append('F2Py')"
   ]
  },
  {
   "cell_type": "markdown",
   "metadata": {},
   "source": [
    "## Numba version"
   ]
  },
  {
   "cell_type": "markdown",
   "metadata": {},
   "source": [
    "In this case, Numba is faster if `anew` is not only returned by the function, but also pass as argument:"
   ]
  },
  {
   "cell_type": "code",
   "execution_count": 12,
   "metadata": {
    "collapsed": false
   },
   "outputs": [],
   "source": [
    "from numba import autojit\n",
    "\n",
    "@autojit\n",
    "def jacobiNumba(a, anew, nxi, nyi):\n",
    "    for i in xrange(1,nxi-1):\n",
    "        for j in xrange(1,nyi-1):\n",
    "            anew[i,j] = 0.5*a[i,j] + 0.125*(a[i-1,j] + a[i+1,j] \\\n",
    "                                   + a[i,j-1] + a[i,j+1])\n",
    "    return anew\n",
    "\n",
    "@autojit\n",
    "def solveHeatNumba(a, anew, nxi, nyi, niter):\n",
    "    i = 1\n",
    "    while (i < niter):\n",
    "        anew = jacobiNumba(a, anew, nxi, nyi)\n",
    "        a = anew.copy()\n",
    "        i += 1\n",
    "    return anew"
   ]
  },
  {
   "cell_type": "code",
   "execution_count": 19,
   "metadata": {
    "collapsed": false
   },
   "outputs": [
    {
     "name": "stdout",
     "output_type": "stream",
     "text": [
      "1000 loops, best of 3: 1.29 ms per loop\n"
     ]
    }
   ],
   "source": [
    "a = np.zeros((nx,ny))\n",
    "a = initProblem(a, nx, ny)\n",
    "anew = a.copy()\n",
    "nbversion = %timeit -o solveHeatNumba(a, anew, nx, ny, niter)\n",
    "times.append(nbversion.best)\n",
    "labels.append('Numba')"
   ]
  },
  {
   "cell_type": "markdown",
   "metadata": {},
   "source": [
    "## NumPy version"
   ]
  },
  {
   "cell_type": "markdown",
   "metadata": {},
   "source": [
    "Thanks to Karl, here is a pure NumPy version. As you can see, the performances are very similar to what you'd get from Cython, F2Py or Numba!"
   ]
  },
  {
   "cell_type": "code",
   "execution_count": 14,
   "metadata": {
    "collapsed": true
   },
   "outputs": [],
   "source": [
    "def jacobiNumPy(a):\n",
    "    \"\"\" ix,iy should be output from meshgrid() \"\"\"\n",
    "    a_ijp1 = a[1:-2,1:-2]\n",
    "    a_ij   = a[1:-1,1:-1]\n",
    "    a_im1j = a[0:-2,1:-1]\n",
    "    a_ip1j = a[2:,1:-1]\n",
    "    a_ijm1 = a[1:-1,0:-2]\n",
    "    a_ijp1 = a[1:-1,2:]\n",
    "    \n",
    "    a[1:-1,1:-1] = 0.5*a_ij + 0.125*( a_im1j + a_ip1j + a_ijm1 + a_ijp1 ) \n",
    "    return a\n",
    "\n",
    "# Solver: iterate and call the Jacobi function\n",
    "def solveHeatNumPy(a, anew, nxi, nyi, niter):\n",
    "    i = 1\n",
    "    while (i < niter):\n",
    "        anew = jacobiNumPy(a)\n",
    "        #a = anew.copy()\n",
    "        i += 1\n",
    "    return anew"
   ]
  },
  {
   "cell_type": "code",
   "execution_count": 20,
   "metadata": {
    "collapsed": false
   },
   "outputs": [
    {
     "name": "stdout",
     "output_type": "stream",
     "text": [
      "100 loops, best of 3: 4.62 ms per loop\n"
     ]
    }
   ],
   "source": [
    "a = np.zeros((nx,ny))\n",
    "a = initProblem(a, nx, ny)\n",
    "anew = a.copy()\n",
    "npversion = %timeit -o solveHeatNumPy(a, anew, nx, ny, niter)\n",
    "times.append(npversion.best)\n",
    "labels.append('NumPy')"
   ]
  },
  {
   "cell_type": "code",
   "execution_count": 22,
   "metadata": {
    "collapsed": false
   },
   "outputs": [
    {
     "data": {
      "image/png": "[encoded data removed]",
      "text/plain": [
       "<matplotlib.figure.Figure at 0x7f294a0d5050>"
      ]
     },
     "metadata": {},
     "output_type": "display_data"
    }
   ],
   "source": [
    "def plotElpTime(times, labels, *args, **kwargs):\n",
    "    fig = pl.figure(figsize=(len(times)*2,5))\n",
    "    pl.title(r'Elapsed time for Heat eaquation')\n",
    "    pl.ylabel('time (s)')\n",
    "    pl.xticks(range(len(times)), labels)\n",
    "    pl.xlim(-0.5, len(times)-0.5)\n",
    "    pl.semilogy(times, 'ro')\n",
    "    return fig\n",
    " \n",
    "fig = plotElpTime(times, labels)"
   ]
  },
  {
   "cell_type": "markdown",
   "metadata": {},
   "source": [
    "# Concurrent & parallel computing hands-on session: Monte Carlo Pi"
   ]
  },
  {
   "cell_type": "markdown",
   "metadata": {},
   "source": [
    "We will compute the approximate value of $\\pi$ with a Monte Carlo integration algorithm. Each point $(x,y)$ in a list of random points within a \"unit\" square is evaluated using the function:\n",
    "\n",
    "$$f(x,y) = (x^2 + y^2 < 1) \\quad ? \\quad 1 \\quad : \\quad 0$$\n",
    "\n",
    "The points are then summed. The approximate value of $\\pi$ can then be calculated by multiplying four times the volume of the square with the mean value for $f(x,y)$.\n",
    "\n",
    "The code itself is quite simple, and the algorithm is *embarassingly* parallel because each $f(x,y)$ calculation can be performed independently. Besides, the algorithm uses a sum reduction, which makes it interesting."
   ]
  },
  {
   "cell_type": "markdown",
   "metadata": {},
   "source": [
    "## Python version"
   ]
  },
  {
   "cell_type": "code",
   "execution_count": 3,
   "metadata": {
    "collapsed": false
   },
   "outputs": [
    {
     "name": "stdout",
     "output_type": "stream",
     "text": [
      "1 loops, best of 3: 1.67 s per loop\n"
     ]
    }
   ],
   "source": [
    "import numpy as np\n",
    "\n",
    "def compPi(nelmt=int(1e6)):\n",
    "    # Initialize points coordinates (x,y)\n",
    "    x = np.random.random(nelmt)\n",
    "    y = np.random.random(nelmt)\n",
    "    temp = np.zeros(nelmt)\n",
    "    # Evaluation of each point with f \n",
    "    for i in xrange(nelmt):\n",
    "        radSq = x[i]*x[i] + y[i]*y[i]\n",
    "        temp[i] = 1 if (radSq < 1) else 0\n",
    "    \n",
    "    sumA = 0.\n",
    "    for i in xrange(nelmt):\n",
    "        sumA += temp[i]\n",
    "\n",
    "    return 4*sumA/nelmt\n",
    "\n",
    "%timeit compPi()"
   ]
  },
  {
   "cell_type": "markdown",
   "metadata": {},
   "source": [
    "## `multiprocessing` version"
   ]
  },
  {
   "cell_type": "markdown",
   "metadata": {},
   "source": [
    "For the multiprocessing version, the simplest thing to do is to distribute evenly the work among the processes (for example using a pool):"
   ]
  },
  {
   "cell_type": "code",
   "execution_count": 4,
   "metadata": {
    "collapsed": false
   },
   "outputs": [
    {
     "name": "stdout",
     "output_type": "stream",
     "text": [
      "1 loops, best of 3: 632 ms per loop\n"
     ]
    }
   ],
   "source": [
    "import multiprocessing as mp\n",
    "\n",
    "def piPool(nelmt=int(1e6)):\n",
    "    # Get number of CPU available and define the number of processes\n",
    "    nproc  = mp.cpu_count()\n",
    "    # Create pool\n",
    "    pool   = mp.Pool(processes=nproc)\n",
    "    # Distribute the work among processes\n",
    "    result = pool.map(compPi, [nelmt/nproc for i in xrange(nproc)])\n",
    "    return sum(result)/nproc\n",
    "\n",
    "%timeit piPool()"
   ]
  },
  {
   "cell_type": "markdown",
   "metadata": {},
   "source": [
    "## `mpi4py` version"
   ]
  },
  {
   "cell_type": "markdown",
   "metadata": {},
   "source": [
    "The same can be done with MPI; the main trick is to not forget to reduce the result:"
   ]
  },
  {
   "cell_type": "code",
   "execution_count": 39,
   "metadata": {
    "collapsed": false
   },
   "outputs": [
    {
     "name": "stdout",
     "output_type": "stream",
     "text": [
      "Overwriting piparallel.py\n"
     ]
    }
   ],
   "source": [
    "%%file piparallel.py\n",
    "#!/usr/bin/env python\n",
    "import os\n",
    "from mpi4py import MPI\n",
    "import numpy as np\n",
    "\n",
    "def compPi(nelmt=int(1e6)):\n",
    "    x = np.random.random(nelmt)\n",
    "    y = np.random.random(nelmt)\n",
    "    temp = np.zeros(nelmt)\n",
    "    for i in xrange(nelmt):\n",
    "        radSq = x[i]*x[i] + y[i]*y[i]\n",
    "        temp[i] = 1 if (radSq < 1) else 0\n",
    "    \n",
    "    sumA = 0.\n",
    "    for i in xrange(nelmt):\n",
    "        sumA += temp[i]\n",
    "\n",
    "    return 4*sumA/nelmt\n",
    "\n",
    "def piMPI(nelmt=int(1e6)):\n",
    "    # Communicator initalization\n",
    "    comm = MPI.COMM_WORLD\n",
    "    size = comm.Get_size()\n",
    "    rank = comm.Get_rank()\n",
    "    \n",
    "    t1 = MPI.Wtime()\n",
    "    # Compute pi for a subset of elements for each process\n",
    "    piLoc = compPi(nelmt/size)\n",
    "    # perform a sum reduction on process 0\n",
    "    pi = comm.reduce(piLoc, op=MPI.SUM, root=0)\n",
    "    if rank == 0:\n",
    "        pi = pi/size\n",
    "    # broadcast the result to the other processes\n",
    "    pi = comm.bcast(pi, root=0)\n",
    "    t2 = MPI.Wtime()\n",
    "    if rank == 0: print(\"Elapsed time: %9.8f s\" %(t2 - t1))\n",
    "    return pi\n",
    "\n",
    "if __name__ == '__main__':\n",
    "    pi = piMPI()"
   ]
  },
  {
   "cell_type": "code",
   "execution_count": 8,
   "metadata": {
    "collapsed": false
   },
   "outputs": [
    {
     "name": "stdout",
     "output_type": "stream",
     "text": [
      "Elapsed time: 0.56077099 s\n"
     ]
    }
   ],
   "source": [
    "%%bash\n",
    "chmod +x piparallel.py\n",
    "mpirun -np 4 ./piparallel.py"
   ]
  }
 ],
 "metadata": {
  "kernelspec": {
   "display_name": "Python 2",
   "language": "python",
   "name": "python2"
  },
  "language_info": {
   "codemirror_mode": {
    "name": "ipython",
    "version": 2
   },
   "file_extension": ".py",
   "mimetype": "text/x-python",
   "name": "python",
   "nbconvert_exporter": "python",
   "pygments_lexer": "ipython2",
   "version": "2.7.9"
  }
 },
 "nbformat": 4,
 "nbformat_minor": 0
}
